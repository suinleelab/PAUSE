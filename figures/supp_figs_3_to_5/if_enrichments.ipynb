{
 "cells": [
  {
   "cell_type": "code",
   "execution_count": 129,
   "id": "23720687-2ad7-4d94-8df1-39b834c5e456",
   "metadata": {},
   "outputs": [],
   "source": [
    "import numpy as np\n",
    "import pandas as pd \n",
    "import anndata \n",
    "import matplotlib.pyplot as plt\n",
    "import shap as shap \n",
    "import seaborn as sns\n",
    "import math as math"
   ]
  },
  {
   "cell_type": "code",
   "execution_count": 130,
   "id": "4d703ba9-a186-42f1-9f16-c6c4894e049c",
   "metadata": {},
   "outputs": [],
   "source": [
    "aux_0 = pd.read_csv('kang_remove_if/aux_0.csv')\n",
    "aux_1 = pd.read_csv('kang_remove_if/aux_1.csv')\n",
    "aux_2 = pd.read_csv('kang_remove_if/aux_2.csv')\n",
    "aux_3 = pd.read_csv('kang_remove_if/aux_3.csv')"
   ]
  },
  {
   "cell_type": "code",
   "execution_count": 132,
   "id": "024e41d9-7ac0-4708-a839-08eba50ca28d",
   "metadata": {},
   "outputs": [
    {
     "data": {
      "text/html": [
       "<div>\n",
       "<style scoped>\n",
       "    .dataframe tbody tr th:only-of-type {\n",
       "        vertical-align: middle;\n",
       "    }\n",
       "\n",
       "    .dataframe tbody tr th {\n",
       "        vertical-align: top;\n",
       "    }\n",
       "\n",
       "    .dataframe thead th {\n",
       "        text-align: right;\n",
       "    }\n",
       "</style>\n",
       "<table border=\"1\" class=\"dataframe\">\n",
       "  <thead>\n",
       "    <tr style=\"text-align: right;\">\n",
       "      <th></th>\n",
       "      <th>index</th>\n",
       "      <th>means</th>\n",
       "      <th>stds</th>\n",
       "    </tr>\n",
       "  </thead>\n",
       "  <tbody>\n",
       "    <tr>\n",
       "      <th>545</th>\n",
       "      <td>IFITM3</td>\n",
       "      <td>0.709583</td>\n",
       "      <td>0.281605</td>\n",
       "    </tr>\n",
       "    <tr>\n",
       "      <th>647</th>\n",
       "      <td>OAS1</td>\n",
       "      <td>0.438769</td>\n",
       "      <td>0.252397</td>\n",
       "    </tr>\n",
       "    <tr>\n",
       "      <th>347</th>\n",
       "      <td>PLA2G7</td>\n",
       "      <td>0.418379</td>\n",
       "      <td>0.296723</td>\n",
       "    </tr>\n",
       "    <tr>\n",
       "      <th>137</th>\n",
       "      <td>SSB</td>\n",
       "      <td>0.353560</td>\n",
       "      <td>0.184598</td>\n",
       "    </tr>\n",
       "    <tr>\n",
       "      <th>731</th>\n",
       "      <td>ISG20</td>\n",
       "      <td>0.333068</td>\n",
       "      <td>0.180125</td>\n",
       "    </tr>\n",
       "    <tr>\n",
       "      <th>...</th>\n",
       "      <td>...</td>\n",
       "      <td>...</td>\n",
       "      <td>...</td>\n",
       "    </tr>\n",
       "    <tr>\n",
       "      <th>626</th>\n",
       "      <td>GLS2</td>\n",
       "      <td>0.000013</td>\n",
       "      <td>0.000578</td>\n",
       "    </tr>\n",
       "    <tr>\n",
       "      <th>948</th>\n",
       "      <td>JAM2</td>\n",
       "      <td>0.000012</td>\n",
       "      <td>0.000478</td>\n",
       "    </tr>\n",
       "    <tr>\n",
       "      <th>285</th>\n",
       "      <td>CDO1</td>\n",
       "      <td>0.000011</td>\n",
       "      <td>0.000147</td>\n",
       "    </tr>\n",
       "    <tr>\n",
       "      <th>512</th>\n",
       "      <td>CARD9</td>\n",
       "      <td>0.000009</td>\n",
       "      <td>0.000132</td>\n",
       "    </tr>\n",
       "    <tr>\n",
       "      <th>969</th>\n",
       "      <td>ABCC2</td>\n",
       "      <td>0.000006</td>\n",
       "      <td>0.000192</td>\n",
       "    </tr>\n",
       "  </tbody>\n",
       "</table>\n",
       "<p>979 rows × 3 columns</p>\n",
       "</div>"
      ],
      "text/plain": [
       "      index     means      stds\n",
       "545  IFITM3  0.709583  0.281605\n",
       "647    OAS1  0.438769  0.252397\n",
       "347  PLA2G7  0.418379  0.296723\n",
       "137     SSB  0.353560  0.184598\n",
       "731   ISG20  0.333068  0.180125\n",
       "..      ...       ...       ...\n",
       "626    GLS2  0.000013  0.000578\n",
       "948    JAM2  0.000012  0.000478\n",
       "285    CDO1  0.000011  0.000147\n",
       "512   CARD9  0.000009  0.000132\n",
       "969   ABCC2  0.000006  0.000192\n",
       "\n",
       "[979 rows x 3 columns]"
      ]
     },
     "execution_count": 132,
     "metadata": {},
     "output_type": "execute_result"
    }
   ],
   "source": [
    "aux_0.sort_values('means',ascending=False)"
   ]
  },
  {
   "cell_type": "code",
   "execution_count": 133,
   "id": "b85cd0f4-6b0c-4a1b-82e7-24e0b207a830",
   "metadata": {},
   "outputs": [],
   "source": [
    "combined_means = pd.DataFrame(index = aux_0.index)"
   ]
  },
  {
   "cell_type": "code",
   "execution_count": 134,
   "id": "c9a0bd21-db5e-4109-9fdd-c6c585f99f52",
   "metadata": {},
   "outputs": [],
   "source": [
    "combined_means[0] = aux_0['means']\n",
    "combined_means[1] = aux_1['means']\n",
    "combined_means[2] = aux_2['means']\n",
    "combined_means[3] = aux_3['means']"
   ]
  },
  {
   "cell_type": "code",
   "execution_count": 135,
   "id": "a69cab5f-5575-4543-8c05-e3a7dabfe983",
   "metadata": {},
   "outputs": [
    {
     "data": {
      "text/html": [
       "<div>\n",
       "<style scoped>\n",
       "    .dataframe tbody tr th:only-of-type {\n",
       "        vertical-align: middle;\n",
       "    }\n",
       "\n",
       "    .dataframe tbody tr th {\n",
       "        vertical-align: top;\n",
       "    }\n",
       "\n",
       "    .dataframe thead th {\n",
       "        text-align: right;\n",
       "    }\n",
       "</style>\n",
       "<table border=\"1\" class=\"dataframe\">\n",
       "  <thead>\n",
       "    <tr style=\"text-align: right;\">\n",
       "      <th></th>\n",
       "      <th>0</th>\n",
       "      <th>1</th>\n",
       "      <th>2</th>\n",
       "      <th>3</th>\n",
       "    </tr>\n",
       "  </thead>\n",
       "  <tbody>\n",
       "    <tr>\n",
       "      <th>0</th>\n",
       "      <td>0.032333</td>\n",
       "      <td>0.019760</td>\n",
       "      <td>0.037992</td>\n",
       "      <td>0.010096</td>\n",
       "    </tr>\n",
       "    <tr>\n",
       "      <th>1</th>\n",
       "      <td>0.000164</td>\n",
       "      <td>0.000440</td>\n",
       "      <td>0.001479</td>\n",
       "      <td>0.000722</td>\n",
       "    </tr>\n",
       "    <tr>\n",
       "      <th>2</th>\n",
       "      <td>0.000322</td>\n",
       "      <td>0.000119</td>\n",
       "      <td>0.000113</td>\n",
       "      <td>0.000512</td>\n",
       "    </tr>\n",
       "    <tr>\n",
       "      <th>3</th>\n",
       "      <td>0.000448</td>\n",
       "      <td>0.000268</td>\n",
       "      <td>0.000547</td>\n",
       "      <td>0.000456</td>\n",
       "    </tr>\n",
       "    <tr>\n",
       "      <th>4</th>\n",
       "      <td>0.003576</td>\n",
       "      <td>0.003230</td>\n",
       "      <td>0.001900</td>\n",
       "      <td>0.001926</td>\n",
       "    </tr>\n",
       "    <tr>\n",
       "      <th>...</th>\n",
       "      <td>...</td>\n",
       "      <td>...</td>\n",
       "      <td>...</td>\n",
       "      <td>...</td>\n",
       "    </tr>\n",
       "    <tr>\n",
       "      <th>974</th>\n",
       "      <td>0.000115</td>\n",
       "      <td>0.000157</td>\n",
       "      <td>0.000070</td>\n",
       "      <td>0.000066</td>\n",
       "    </tr>\n",
       "    <tr>\n",
       "      <th>975</th>\n",
       "      <td>0.000091</td>\n",
       "      <td>0.000099</td>\n",
       "      <td>0.000104</td>\n",
       "      <td>0.000115</td>\n",
       "    </tr>\n",
       "    <tr>\n",
       "      <th>976</th>\n",
       "      <td>0.000091</td>\n",
       "      <td>0.000205</td>\n",
       "      <td>0.000401</td>\n",
       "      <td>0.000127</td>\n",
       "    </tr>\n",
       "    <tr>\n",
       "      <th>977</th>\n",
       "      <td>0.000038</td>\n",
       "      <td>0.000051</td>\n",
       "      <td>0.000153</td>\n",
       "      <td>0.000011</td>\n",
       "    </tr>\n",
       "    <tr>\n",
       "      <th>978</th>\n",
       "      <td>0.000017</td>\n",
       "      <td>0.000099</td>\n",
       "      <td>0.000019</td>\n",
       "      <td>0.000036</td>\n",
       "    </tr>\n",
       "  </tbody>\n",
       "</table>\n",
       "<p>979 rows × 4 columns</p>\n",
       "</div>"
      ],
      "text/plain": [
       "            0         1         2         3\n",
       "0    0.032333  0.019760  0.037992  0.010096\n",
       "1    0.000164  0.000440  0.001479  0.000722\n",
       "2    0.000322  0.000119  0.000113  0.000512\n",
       "3    0.000448  0.000268  0.000547  0.000456\n",
       "4    0.003576  0.003230  0.001900  0.001926\n",
       "..        ...       ...       ...       ...\n",
       "974  0.000115  0.000157  0.000070  0.000066\n",
       "975  0.000091  0.000099  0.000104  0.000115\n",
       "976  0.000091  0.000205  0.000401  0.000127\n",
       "977  0.000038  0.000051  0.000153  0.000011\n",
       "978  0.000017  0.000099  0.000019  0.000036\n",
       "\n",
       "[979 rows x 4 columns]"
      ]
     },
     "execution_count": 135,
     "metadata": {},
     "output_type": "execute_result"
    }
   ],
   "source": [
    "combined_means"
   ]
  },
  {
   "cell_type": "code",
   "execution_count": 136,
   "id": "f2040385-8056-4c9b-bdee-ee1ab665c26f",
   "metadata": {},
   "outputs": [
    {
     "data": {
      "text/html": [
       "<div>\n",
       "<style scoped>\n",
       "    .dataframe tbody tr th:only-of-type {\n",
       "        vertical-align: middle;\n",
       "    }\n",
       "\n",
       "    .dataframe tbody tr th {\n",
       "        vertical-align: top;\n",
       "    }\n",
       "\n",
       "    .dataframe thead th {\n",
       "        text-align: right;\n",
       "    }\n",
       "</style>\n",
       "<table border=\"1\" class=\"dataframe\">\n",
       "  <thead>\n",
       "    <tr style=\"text-align: right;\">\n",
       "      <th></th>\n",
       "      <th>0</th>\n",
       "      <th>1</th>\n",
       "      <th>2</th>\n",
       "      <th>3</th>\n",
       "    </tr>\n",
       "  </thead>\n",
       "  <tbody>\n",
       "    <tr>\n",
       "      <th>0</th>\n",
       "      <td>1.000000</td>\n",
       "      <td>0.508987</td>\n",
       "      <td>0.827846</td>\n",
       "      <td>0.513819</td>\n",
       "    </tr>\n",
       "    <tr>\n",
       "      <th>1</th>\n",
       "      <td>0.508987</td>\n",
       "      <td>1.000000</td>\n",
       "      <td>0.322218</td>\n",
       "      <td>0.846414</td>\n",
       "    </tr>\n",
       "    <tr>\n",
       "      <th>2</th>\n",
       "      <td>0.827846</td>\n",
       "      <td>0.322218</td>\n",
       "      <td>1.000000</td>\n",
       "      <td>0.364073</td>\n",
       "    </tr>\n",
       "    <tr>\n",
       "      <th>3</th>\n",
       "      <td>0.513819</td>\n",
       "      <td>0.846414</td>\n",
       "      <td>0.364073</td>\n",
       "      <td>1.000000</td>\n",
       "    </tr>\n",
       "  </tbody>\n",
       "</table>\n",
       "</div>"
      ],
      "text/plain": [
       "          0         1         2         3\n",
       "0  1.000000  0.508987  0.827846  0.513819\n",
       "1  0.508987  1.000000  0.322218  0.846414\n",
       "2  0.827846  0.322218  1.000000  0.364073\n",
       "3  0.513819  0.846414  0.364073  1.000000"
      ]
     },
     "execution_count": 136,
     "metadata": {},
     "output_type": "execute_result"
    }
   ],
   "source": [
    "combined_means.corr()"
   ]
  },
  {
   "cell_type": "code",
   "execution_count": 137,
   "id": "7aa9b78a-9769-49f2-ab16-e30ef48a91a1",
   "metadata": {},
   "outputs": [],
   "source": [
    "corr_mat = combined_means.corr().abs()\n",
    "mask = np.tril(np.ones_like(corr_mat, dtype=bool)) "
   ]
  },
  {
   "cell_type": "code",
   "execution_count": 138,
   "id": "8c5f0225-033b-4559-bb16-6500ed35ed8f",
   "metadata": {},
   "outputs": [
    {
     "data": {
      "image/png": "[encoded data removed]",
      "text/plain": [
       "<Figure size 576x432 with 2 Axes>"
      ]
     },
     "metadata": {
      "needs_background": "light"
     },
     "output_type": "display_data"
    }
   ],
   "source": [
    "plt.figure(figsize=(8,6))\n",
    "sns.heatmap(combined_means.corr(),cmap='RdBu',\n",
    "           mask=mask,vmax=1,vmin=-1,annot=True,annot_kws={\"size\": 15})\n",
    "plt.savefig('remove_if_corr.pdf')\n",
    "plt.show()"
   ]
  },
  {
   "cell_type": "code",
   "execution_count": 139,
   "id": "d9f1c951-b9c4-4ae8-aca0-3c1d4cc65dac",
   "metadata": {},
   "outputs": [],
   "source": [
    "aux0_res = pd.read_csv('if_aux0_enrichment.tsv', sep='\\t')\n",
    "aux1_res = pd.read_csv('if_aux1_enrichment.tsv', sep='\\t')\n",
    "aux2_res = pd.read_csv('if_aux2_enrichment.tsv', sep='\\t')\n",
    "aux3_res = pd.read_csv('if_aux3_enrichment.tsv', sep='\\t')"
   ]
  },
  {
   "cell_type": "code",
   "execution_count": 158,
   "id": "e45d1830-cd37-493d-826f-8797339d4160",
   "metadata": {},
   "outputs": [],
   "source": [
    "# plot \n",
    "def make_enrichment_plot(dataset, title):\n",
    "    fdrs = list(dataset['false discovery rate'])\n",
    "    log_fdrs = [-math.log(i,10) for i in fdrs]\n",
    "    bars = np.arange(len(fdrs))\n",
    "    labels = list(dataset['term description'])\n",
    "\n",
    "    #fig, ax = plt.subplots()\n",
    "    fig, ax = plt.subplots(figsize=(6,3))\n",
    "\n",
    "    \n",
    "    ax.barh(bars, log_fdrs, align='center', alpha=0.5, ecolor='black', capsize=10)\n",
    "    ax.set_yticks(bars)\n",
    "    ax.set_yticklabels(labels)\n",
    "    \n",
    "    plt.xlim([0, 8.5])\n",
    "\n",
    "    ax.invert_yaxis()  # labels read top-to-bottom\n",
    "    ax.set_xlabel(r'$-log_{10}(p)$')\n",
    "    plt.tight_layout()\n",
    "\n",
    "    #plt.savefig(str(dataset)+'.pdf', bbox_inches='tight')\n",
    "    plt.savefig(title +'.pdf', bbox_inches='tight')\n",
    "\n",
    "    plt.show()"
   ]
  },
  {
   "cell_type": "code",
   "execution_count": 159,
   "id": "dc6923e2-4f86-4553-92c7-87f93468f415",
   "metadata": {},
   "outputs": [
    {
     "data": {
      "image/png": "[encoded data removed]",
      "text/plain": [
       "<Figure size 432x216 with 1 Axes>"
      ]
     },
     "metadata": {
      "needs_background": "light"
     },
     "output_type": "display_data"
    }
   ],
   "source": [
    "make_enrichment_plot(aux0_res, 'if_aux0')"
   ]
  },
  {
   "cell_type": "code",
   "execution_count": 160,
   "id": "61091b3f-9d93-4268-a851-af81edb9de6e",
   "metadata": {},
   "outputs": [
    {
     "data": {
      "image/png": "[encoded data removed]",
      "text/plain": [
       "<Figure size 432x216 with 1 Axes>"
      ]
     },
     "metadata": {
      "needs_background": "light"
     },
     "output_type": "display_data"
    }
   ],
   "source": [
    "make_enrichment_plot(aux1_res, 'if_aux1')"
   ]
  },
  {
   "cell_type": "code",
   "execution_count": 161,
   "id": "b02fafb1-65a8-4c13-8ae4-dd6bfbba8c66",
   "metadata": {},
   "outputs": [
    {
     "data": {
      "image/png": "[encoded data removed]",
      "text/plain": [
       "<Figure size 432x216 with 1 Axes>"
      ]
     },
     "metadata": {
      "needs_background": "light"
     },
     "output_type": "display_data"
    }
   ],
   "source": [
    "make_enrichment_plot(aux2_res, 'if_aux2')"
   ]
  },
  {
   "cell_type": "code",
   "execution_count": 162,
   "id": "0ee74ae9-6dfe-4e05-b918-a2a36c15f764",
   "metadata": {},
   "outputs": [
    {
     "data": {
      "image/png": "[encoded data removed]",
      "text/plain": [
       "<Figure size 432x216 with 1 Axes>"
      ]
     },
     "metadata": {
      "needs_background": "light"
     },
     "output_type": "display_data"
    }
   ],
   "source": [
    "make_enrichment_plot(aux3_res, 'if_aux3')"
   ]
  },
  {
   "cell_type": "code",
   "execution_count": null,
   "id": "4c466e12-d176-4555-9fa1-eacb6fc7dbd3",
   "metadata": {},
   "outputs": [],
   "source": []
  }
 ],
 "metadata": {
  "kernelspec": {
   "display_name": "plot",
   "language": "python",
   "name": "plot"
  },
  "language_info": {
   "codemirror_mode": {
    "name": "ipython",
    "version": 3
   },
   "file_extension": ".py",
   "mimetype": "text/x-python",
   "name": "python",
   "nbconvert_exporter": "python",
   "pygments_lexer": "ipython3",
   "version": "3.9.10"
  }
 },
 "nbformat": 4,
 "nbformat_minor": 5
}
