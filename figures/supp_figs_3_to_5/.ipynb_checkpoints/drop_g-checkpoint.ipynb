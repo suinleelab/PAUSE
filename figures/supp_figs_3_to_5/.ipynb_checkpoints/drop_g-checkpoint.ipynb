{
 "cells": [
  {
   "cell_type": "code",
   "execution_count": 1,
   "metadata": {},
   "outputs": [],
   "source": [
    "import anndata\n",
    "import numpy as np\n",
    "import pandas as pd\n",
    "\n",
    "import torch\n",
    "\n",
    "import os\n",
    "os.environ[\"CUDA_VISIBLE_DEVICES\"]=\"0\""
   ]
  },
  {
   "cell_type": "code",
   "execution_count": 2,
   "metadata": {},
   "outputs": [],
   "source": [
    "from utils import load_annotations"
   ]
  },
  {
   "cell_type": "code",
   "execution_count": 3,
   "metadata": {},
   "outputs": [],
   "source": [
    "from sklearn.model_selection import train_test_split"
   ]
  },
  {
   "cell_type": "markdown",
   "metadata": {},
   "source": [
    "# load data"
   ]
  },
  {
   "cell_type": "code",
   "execution_count": 4,
   "metadata": {},
   "outputs": [],
   "source": [
    "data = anndata.read('data/kang_count.h5ad')"
   ]
  },
  {
   "cell_type": "code",
   "execution_count": 5,
   "metadata": {},
   "outputs": [],
   "source": [
    "pathway_ann_matrix = load_annotations(\n",
    "    'data/c2.cp.reactome.v7.4.symbols.gmt',\n",
    "    data.var_names,\n",
    "    min_genes=13\n",
    ")"
   ]
  },
  {
   "cell_type": "code",
   "execution_count": 6,
   "metadata": {},
   "outputs": [
    {
     "data": {
      "text/plain": [
       "['REACTOME_REGULATION_OF_PLK1_ACTIVITY_AT_G2_M_TRANSITION']"
      ]
     },
     "execution_count": 6,
     "metadata": {},
     "output_type": "execute_result"
    }
   ],
   "source": [
    "[x for x in pathway_ann_matrix.columns if 'G2_M_TRANSITION' in x or 'PLK1' in x]"
   ]
  },
  {
   "cell_type": "code",
   "execution_count": 7,
   "metadata": {},
   "outputs": [
    {
     "data": {
      "text/html": [
       "<div>\n",
       "<style scoped>\n",
       "    .dataframe tbody tr th:only-of-type {\n",
       "        vertical-align: middle;\n",
       "    }\n",
       "\n",
       "    .dataframe tbody tr th {\n",
       "        vertical-align: top;\n",
       "    }\n",
       "\n",
       "    .dataframe thead th {\n",
       "        text-align: right;\n",
       "    }\n",
       "</style>\n",
       "<table border=\"1\" class=\"dataframe\">\n",
       "  <thead>\n",
       "    <tr style=\"text-align: right;\">\n",
       "      <th></th>\n",
       "      <th>REACTOME_REGULATION_OF_PLK1_ACTIVITY_AT_G2_M_TRANSITION</th>\n",
       "    </tr>\n",
       "    <tr>\n",
       "      <th>index</th>\n",
       "      <th></th>\n",
       "    </tr>\n",
       "  </thead>\n",
       "  <tbody>\n",
       "    <tr>\n",
       "      <th>PPP1CB</th>\n",
       "      <td>True</td>\n",
       "    </tr>\n",
       "    <tr>\n",
       "      <th>CLASP1</th>\n",
       "      <td>True</td>\n",
       "    </tr>\n",
       "    <tr>\n",
       "      <th>TUBA4A</th>\n",
       "      <td>True</td>\n",
       "    </tr>\n",
       "    <tr>\n",
       "      <th>CCNB1</th>\n",
       "      <td>True</td>\n",
       "    </tr>\n",
       "    <tr>\n",
       "      <th>TUBB</th>\n",
       "      <td>True</td>\n",
       "    </tr>\n",
       "    <tr>\n",
       "      <th>CUL1</th>\n",
       "      <td>True</td>\n",
       "    </tr>\n",
       "    <tr>\n",
       "      <th>CDK5RAP2</th>\n",
       "      <td>True</td>\n",
       "    </tr>\n",
       "    <tr>\n",
       "      <th>TUBB4B</th>\n",
       "      <td>True</td>\n",
       "    </tr>\n",
       "    <tr>\n",
       "      <th>CDK1</th>\n",
       "      <td>True</td>\n",
       "    </tr>\n",
       "    <tr>\n",
       "      <th>ACTR1A</th>\n",
       "      <td>True</td>\n",
       "    </tr>\n",
       "    <tr>\n",
       "      <th>TUBA1A</th>\n",
       "      <td>True</td>\n",
       "    </tr>\n",
       "    <tr>\n",
       "      <th>DCTN2</th>\n",
       "      <td>True</td>\n",
       "    </tr>\n",
       "    <tr>\n",
       "      <th>CENPJ</th>\n",
       "      <td>True</td>\n",
       "    </tr>\n",
       "    <tr>\n",
       "      <th>HSP90AA1</th>\n",
       "      <td>True</td>\n",
       "    </tr>\n",
       "    <tr>\n",
       "      <th>CCNB2</th>\n",
       "      <td>True</td>\n",
       "    </tr>\n",
       "    <tr>\n",
       "      <th>AURKA</th>\n",
       "      <td>True</td>\n",
       "    </tr>\n",
       "  </tbody>\n",
       "</table>\n",
       "</div>"
      ],
      "text/plain": [
       "          REACTOME_REGULATION_OF_PLK1_ACTIVITY_AT_G2_M_TRANSITION\n",
       "index                                                            \n",
       "PPP1CB                                                 True      \n",
       "CLASP1                                                 True      \n",
       "TUBA4A                                                 True      \n",
       "CCNB1                                                  True      \n",
       "TUBB                                                   True      \n",
       "CUL1                                                   True      \n",
       "CDK5RAP2                                               True      \n",
       "TUBB4B                                                 True      \n",
       "CDK1                                                   True      \n",
       "ACTR1A                                                 True      \n",
       "TUBA1A                                                 True      \n",
       "DCTN2                                                  True      \n",
       "CENPJ                                                  True      \n",
       "HSP90AA1                                               True      \n",
       "CCNB2                                                  True      \n",
       "AURKA                                                  True      "
      ]
     },
     "execution_count": 7,
     "metadata": {},
     "output_type": "execute_result"
    }
   ],
   "source": [
    "pathway_ann_matrix[pathway_ann_matrix['REACTOME_REGULATION_OF_PLK1_ACTIVITY_AT_G2_M_TRANSITION']][['REACTOME_REGULATION_OF_PLK1_ACTIVITY_AT_G2_M_TRANSITION']]"
   ]
  },
  {
   "cell_type": "code",
   "execution_count": 8,
   "metadata": {},
   "outputs": [],
   "source": [
    "true_pathways_list = [x for x in pathway_ann_matrix.columns if 'G2_M_TRANSITION' in x or 'PLK1' in x]\n",
    "drop_pathway_ann_matrix = pathway_ann_matrix.loc[:,~pathway_ann_matrix.columns.isin(true_pathways_list)]"
   ]
  },
  {
   "cell_type": "code",
   "execution_count": 9,
   "metadata": {},
   "outputs": [],
   "source": [
    "data.varm['annotations'] = drop_pathway_ann_matrix"
   ]
  },
  {
   "cell_type": "code",
   "execution_count": 10,
   "metadata": {},
   "outputs": [
    {
     "data": {
      "text/html": [
       "<div>\n",
       "<style scoped>\n",
       "    .dataframe tbody tr th:only-of-type {\n",
       "        vertical-align: middle;\n",
       "    }\n",
       "\n",
       "    .dataframe tbody tr th {\n",
       "        vertical-align: top;\n",
       "    }\n",
       "\n",
       "    .dataframe thead th {\n",
       "        text-align: right;\n",
       "    }\n",
       "</style>\n",
       "<table border=\"1\" class=\"dataframe\">\n",
       "  <thead>\n",
       "    <tr style=\"text-align: right;\">\n",
       "      <th></th>\n",
       "      <th>REACTOME_CYTOKINE_SIGNALING_IN_IMMUNE_SYSTEM</th>\n",
       "      <th>REACTOME_INTERFERON_ALPHA_BETA_SIGNALING</th>\n",
       "      <th>REACTOME_INTERFERON_SIGNALING</th>\n",
       "    </tr>\n",
       "    <tr>\n",
       "      <th>index</th>\n",
       "      <th></th>\n",
       "      <th></th>\n",
       "      <th></th>\n",
       "    </tr>\n",
       "  </thead>\n",
       "  <tbody>\n",
       "    <tr>\n",
       "      <th>ISG15</th>\n",
       "      <td>True</td>\n",
       "      <td>True</td>\n",
       "      <td>True</td>\n",
       "    </tr>\n",
       "    <tr>\n",
       "      <th>MIB2</th>\n",
       "      <td>False</td>\n",
       "      <td>False</td>\n",
       "      <td>False</td>\n",
       "    </tr>\n",
       "    <tr>\n",
       "      <th>PRKCZ</th>\n",
       "      <td>False</td>\n",
       "      <td>False</td>\n",
       "      <td>False</td>\n",
       "    </tr>\n",
       "    <tr>\n",
       "      <th>KCNAB2</th>\n",
       "      <td>False</td>\n",
       "      <td>False</td>\n",
       "      <td>False</td>\n",
       "    </tr>\n",
       "    <tr>\n",
       "      <th>CTNNBIP1</th>\n",
       "      <td>False</td>\n",
       "      <td>False</td>\n",
       "      <td>False</td>\n",
       "    </tr>\n",
       "    <tr>\n",
       "      <th>...</th>\n",
       "      <td>...</td>\n",
       "      <td>...</td>\n",
       "      <td>...</td>\n",
       "    </tr>\n",
       "    <tr>\n",
       "      <th>CYP19A1</th>\n",
       "      <td>False</td>\n",
       "      <td>False</td>\n",
       "      <td>False</td>\n",
       "    </tr>\n",
       "    <tr>\n",
       "      <th>RAP1GAP2</th>\n",
       "      <td>False</td>\n",
       "      <td>False</td>\n",
       "      <td>False</td>\n",
       "    </tr>\n",
       "    <tr>\n",
       "      <th>SSTR2</th>\n",
       "      <td>False</td>\n",
       "      <td>False</td>\n",
       "      <td>False</td>\n",
       "    </tr>\n",
       "    <tr>\n",
       "      <th>BIRC5</th>\n",
       "      <td>True</td>\n",
       "      <td>False</td>\n",
       "      <td>False</td>\n",
       "    </tr>\n",
       "    <tr>\n",
       "      <th>PLCB4</th>\n",
       "      <td>False</td>\n",
       "      <td>False</td>\n",
       "      <td>False</td>\n",
       "    </tr>\n",
       "  </tbody>\n",
       "</table>\n",
       "<p>979 rows × 3 columns</p>\n",
       "</div>"
      ],
      "text/plain": [
       "          REACTOME_CYTOKINE_SIGNALING_IN_IMMUNE_SYSTEM  \\\n",
       "index                                                    \n",
       "ISG15                                             True   \n",
       "MIB2                                             False   \n",
       "PRKCZ                                            False   \n",
       "KCNAB2                                           False   \n",
       "CTNNBIP1                                         False   \n",
       "...                                                ...   \n",
       "CYP19A1                                          False   \n",
       "RAP1GAP2                                         False   \n",
       "SSTR2                                            False   \n",
       "BIRC5                                             True   \n",
       "PLCB4                                            False   \n",
       "\n",
       "          REACTOME_INTERFERON_ALPHA_BETA_SIGNALING  \\\n",
       "index                                                \n",
       "ISG15                                         True   \n",
       "MIB2                                         False   \n",
       "PRKCZ                                        False   \n",
       "KCNAB2                                       False   \n",
       "CTNNBIP1                                     False   \n",
       "...                                            ...   \n",
       "CYP19A1                                      False   \n",
       "RAP1GAP2                                     False   \n",
       "SSTR2                                        False   \n",
       "BIRC5                                        False   \n",
       "PLCB4                                        False   \n",
       "\n",
       "          REACTOME_INTERFERON_SIGNALING  \n",
       "index                                    \n",
       "ISG15                              True  \n",
       "MIB2                              False  \n",
       "PRKCZ                             False  \n",
       "KCNAB2                            False  \n",
       "CTNNBIP1                          False  \n",
       "...                                 ...  \n",
       "CYP19A1                           False  \n",
       "RAP1GAP2                          False  \n",
       "SSTR2                             False  \n",
       "BIRC5                             False  \n",
       "PLCB4                             False  \n",
       "\n",
       "[979 rows x 3 columns]"
      ]
     },
     "execution_count": 10,
     "metadata": {},
     "output_type": "execute_result"
    }
   ],
   "source": [
    "drop_pathway_ann_matrix.iloc[:,drop_pathway_ann_matrix.loc['IFITM3',:].values == True]"
   ]
  },
  {
   "cell_type": "code",
   "execution_count": 11,
   "metadata": {},
   "outputs": [],
   "source": [
    "membership_mask = data.varm['annotations'].astype(bool).T\n",
    "X_train, X_test = train_test_split(\n",
    "    data.X,\n",
    "    test_size=0.25,\n",
    "    shuffle=True,\n",
    "    random_state=0,\n",
    "    \n",
    ")"
   ]
  },
  {
   "cell_type": "markdown",
   "metadata": {},
   "source": [
    "# initialize model"
   ]
  },
  {
   "cell_type": "code",
   "execution_count": 12,
   "metadata": {},
   "outputs": [],
   "source": [
    "from models import pmVAEModel"
   ]
  },
  {
   "cell_type": "code",
   "execution_count": 13,
   "metadata": {},
   "outputs": [],
   "source": [
    "kangVAE = pmVAEModel(\n",
    "    membership_mask.values,\n",
    "    [12],\n",
    "    4,\n",
    "    beta=1e-05,\n",
    "    terms=membership_mask.index,\n",
    "    add_auxiliary_module=True\n",
    ")"
   ]
  },
  {
   "cell_type": "code",
   "execution_count": 14,
   "metadata": {},
   "outputs": [
    {
     "data": {
      "text/plain": [
       "pmVAE(\n",
       "  (encoder_net): pmEncoder(\n",
       "    (encoder_dense_1): CustomizedLinear(input_features=979, output_features=2400, bias=True)\n",
       "    (encoder_norm_1): BatchNorm1d(2400, eps=1e-05, momentum=0.1, affine=True, track_running_stats=True)\n",
       "    (encoder_elu_1): ELU(alpha=1.0, inplace=True)\n",
       "    (encoder_dense_2): CustomizedLinear(input_features=2400, output_features=1600, bias=True)\n",
       "    (encoder_norm_2): BatchNorm1d(1600, eps=1e-05, momentum=0.1, affine=True, track_running_stats=True)\n",
       "  )\n",
       "  (decoder_net): pmDecoder(\n",
       "    (decoder_dense_1): CustomizedLinear(input_features=800, output_features=2400, bias=True)\n",
       "    (decoder_norm_1): BatchNorm1d(2400, eps=1e-05, momentum=0.1, affine=True, track_running_stats=True)\n",
       "    (decoder_elu_1): ELU(alpha=1.0, inplace=True)\n",
       "  )\n",
       "  (merge_layer): CustomizedLinear(input_features=2400, output_features=979, bias=False)\n",
       ")"
      ]
     },
     "execution_count": 14,
     "metadata": {},
     "output_type": "execute_result"
    }
   ],
   "source": [
    "kangVAE.model"
   ]
  },
  {
   "cell_type": "markdown",
   "metadata": {},
   "source": [
    "# train model"
   ]
  },
  {
   "cell_type": "code",
   "execution_count": null,
   "metadata": {},
   "outputs": [],
   "source": [
    "kangVAE.train(train_ds, test_ds, checkpoint_path='pmvae_dropG2M_checkpoint.pkl')"
   ]
  },
  {
   "cell_type": "markdown",
   "metadata": {},
   "source": [
    "# explain model"
   ]
  },
  {
   "cell_type": "code",
   "execution_count": 15,
   "metadata": {},
   "outputs": [],
   "source": [
    "kangVAE.load_checkpoint('saved_models/pmvae_dropG2M_checkpoint.pkl.best_loss')"
   ]
  },
  {
   "cell_type": "code",
   "execution_count": 16,
   "metadata": {},
   "outputs": [],
   "source": [
    "kangVAE.set_gpu(False)"
   ]
  },
  {
   "cell_type": "code",
   "execution_count": 17,
   "metadata": {},
   "outputs": [
    {
     "data": {
      "text/plain": [
       "800"
      ]
     },
     "execution_count": 17,
     "metadata": {},
     "output_type": "execute_result"
    }
   ],
   "source": [
    "len(kangVAE.latent_space_names())"
   ]
  },
  {
   "cell_type": "code",
   "execution_count": 18,
   "metadata": {},
   "outputs": [
    {
     "data": {
      "text/plain": [
       "796"
      ]
     },
     "execution_count": 18,
     "metadata": {},
     "output_type": "execute_result"
    }
   ],
   "source": [
    "kangVAE.latent_space_names().index('AUXILIARY-0')"
   ]
  },
  {
   "cell_type": "code",
   "execution_count": 19,
   "metadata": {},
   "outputs": [
    {
     "data": {
      "text/plain": [
       "'AUXILIARY-0'"
      ]
     },
     "execution_count": 19,
     "metadata": {},
     "output_type": "execute_result"
    }
   ],
   "source": [
    "kangVAE.latent_space_names()[-4]"
   ]
  },
  {
   "cell_type": "code",
   "execution_count": 20,
   "metadata": {},
   "outputs": [
    {
     "data": {
      "text/plain": [
       "'AUXILIARY-1'"
      ]
     },
     "execution_count": 20,
     "metadata": {},
     "output_type": "execute_result"
    }
   ],
   "source": [
    "kangVAE.latent_space_names()[-3]"
   ]
  },
  {
   "cell_type": "code",
   "execution_count": 21,
   "metadata": {},
   "outputs": [
    {
     "data": {
      "text/plain": [
       "'AUXILIARY-2'"
      ]
     },
     "execution_count": 21,
     "metadata": {},
     "output_type": "execute_result"
    }
   ],
   "source": [
    "kangVAE.latent_space_names()[-2]"
   ]
  },
  {
   "cell_type": "code",
   "execution_count": 22,
   "metadata": {},
   "outputs": [
    {
     "data": {
      "text/plain": [
       "'AUXILIARY-3'"
      ]
     },
     "execution_count": 22,
     "metadata": {},
     "output_type": "execute_result"
    }
   ],
   "source": [
    "kangVAE.latent_space_names()[-1]"
   ]
  },
  {
   "cell_type": "code",
   "execution_count": 23,
   "metadata": {},
   "outputs": [],
   "source": [
    "def model_latent_wrapper(x):\n",
    "    outs = kangVAE.model(x)\n",
    "    z = outs.mu\n",
    "    return z[:,-4].reshape(-1,1) # which to explain"
   ]
  },
  {
   "cell_type": "code",
   "execution_count": 24,
   "metadata": {},
   "outputs": [],
   "source": [
    "from pathexplainer import PathExplainerTorch"
   ]
  },
  {
   "cell_type": "code",
   "execution_count": 25,
   "metadata": {},
   "outputs": [],
   "source": [
    "input_data = torch.tensor(data.X)\n",
    "input_data.requires_grad = True\n",
    "baseline_data = torch.zeros(data.X.shape[1])\n",
    "baseline_data.requires_grad = True"
   ]
  },
  {
   "cell_type": "code",
   "execution_count": 26,
   "metadata": {},
   "outputs": [],
   "source": [
    "explainer = PathExplainerTorch(model_latent_wrapper)\n",
    "attributions = explainer.attributions(input_data,\n",
    "                                      baseline=baseline_data,\n",
    "                                      num_samples=200,\n",
    "                                      use_expectation=False)"
   ]
  },
  {
   "cell_type": "code",
   "execution_count": 27,
   "metadata": {},
   "outputs": [],
   "source": [
    "np_attribs = attributions.detach().numpy()"
   ]
  },
  {
   "cell_type": "code",
   "execution_count": 28,
   "metadata": {},
   "outputs": [],
   "source": [
    "top = pd.DataFrame(index=membership_mask.columns)\n",
    "top['means'] = np.abs(np_attribs).mean(0)\n",
    "top['stds'] = np.abs(np_attribs).std(0)\n"
   ]
  },
  {
   "cell_type": "code",
   "execution_count": 29,
   "metadata": {},
   "outputs": [
    {
     "data": {
      "text/html": [
       "<div>\n",
       "<style scoped>\n",
       "    .dataframe tbody tr th:only-of-type {\n",
       "        vertical-align: middle;\n",
       "    }\n",
       "\n",
       "    .dataframe tbody tr th {\n",
       "        vertical-align: top;\n",
       "    }\n",
       "\n",
       "    .dataframe thead th {\n",
       "        text-align: right;\n",
       "    }\n",
       "</style>\n",
       "<table border=\"1\" class=\"dataframe\">\n",
       "  <thead>\n",
       "    <tr style=\"text-align: right;\">\n",
       "      <th></th>\n",
       "      <th>means</th>\n",
       "      <th>stds</th>\n",
       "    </tr>\n",
       "    <tr>\n",
       "      <th>index</th>\n",
       "      <th></th>\n",
       "      <th></th>\n",
       "    </tr>\n",
       "  </thead>\n",
       "  <tbody>\n",
       "    <tr>\n",
       "      <th>H2AFZ</th>\n",
       "      <td>1.558621</td>\n",
       "      <td>0.690636</td>\n",
       "    </tr>\n",
       "    <tr>\n",
       "      <th>IL8</th>\n",
       "      <td>0.588597</td>\n",
       "      <td>0.379918</td>\n",
       "    </tr>\n",
       "    <tr>\n",
       "      <th>PLA2G7</th>\n",
       "      <td>0.433617</td>\n",
       "      <td>0.340465</td>\n",
       "    </tr>\n",
       "    <tr>\n",
       "      <th>SSB</th>\n",
       "      <td>0.398044</td>\n",
       "      <td>0.208317</td>\n",
       "    </tr>\n",
       "    <tr>\n",
       "      <th>HIST1H2AC</th>\n",
       "      <td>0.234484</td>\n",
       "      <td>0.173549</td>\n",
       "    </tr>\n",
       "    <tr>\n",
       "      <th>...</th>\n",
       "      <td>...</td>\n",
       "      <td>...</td>\n",
       "    </tr>\n",
       "    <tr>\n",
       "      <th>IFNB1</th>\n",
       "      <td>0.000011</td>\n",
       "      <td>0.000189</td>\n",
       "    </tr>\n",
       "    <tr>\n",
       "      <th>PELI3</th>\n",
       "      <td>0.000010</td>\n",
       "      <td>0.000337</td>\n",
       "    </tr>\n",
       "    <tr>\n",
       "      <th>AURKB</th>\n",
       "      <td>0.000010</td>\n",
       "      <td>0.000136</td>\n",
       "    </tr>\n",
       "    <tr>\n",
       "      <th>SRGAP3</th>\n",
       "      <td>0.000010</td>\n",
       "      <td>0.000202</td>\n",
       "    </tr>\n",
       "    <tr>\n",
       "      <th>ATP6V0A4</th>\n",
       "      <td>0.000005</td>\n",
       "      <td>0.000120</td>\n",
       "    </tr>\n",
       "  </tbody>\n",
       "</table>\n",
       "<p>979 rows × 2 columns</p>\n",
       "</div>"
      ],
      "text/plain": [
       "              means      stds\n",
       "index                        \n",
       "H2AFZ      1.558621  0.690636\n",
       "IL8        0.588597  0.379918\n",
       "PLA2G7     0.433617  0.340465\n",
       "SSB        0.398044  0.208317\n",
       "HIST1H2AC  0.234484  0.173549\n",
       "...             ...       ...\n",
       "IFNB1      0.000011  0.000189\n",
       "PELI3      0.000010  0.000337\n",
       "AURKB      0.000010  0.000136\n",
       "SRGAP3     0.000010  0.000202\n",
       "ATP6V0A4   0.000005  0.000120\n",
       "\n",
       "[979 rows x 2 columns]"
      ]
     },
     "execution_count": 29,
     "metadata": {},
     "output_type": "execute_result"
    }
   ],
   "source": [
    "top.sort_values('means',ascending=False)"
   ]
  },
  {
   "cell_type": "code",
   "execution_count": 30,
   "metadata": {},
   "outputs": [],
   "source": [
    "top.to_csv('kang_remove_g/aux_0.csv')"
   ]
  }
 ],
 "metadata": {
  "kernelspec": {
   "display_name": "newenv",
   "language": "python",
   "name": "newenv"
  },
  "language_info": {
   "codemirror_mode": {
    "name": "ipython",
    "version": 3
   },
   "file_extension": ".py",
   "mimetype": "text/x-python",
   "name": "python",
   "nbconvert_exporter": "python",
   "pygments_lexer": "ipython3",
   "version": "3.9.7"
  }
 },
 "nbformat": 4,
 "nbformat_minor": 4
}
