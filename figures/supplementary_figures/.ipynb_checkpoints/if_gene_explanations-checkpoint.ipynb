{
 "cells": [
  {
   "cell_type": "code",
   "execution_count": 55,
   "id": "b73c9330-3518-47ea-9f41-c0699fbf38c8",
   "metadata": {},
   "outputs": [],
   "source": [
    "import numpy as np\n",
    "import pandas as pd \n",
    "import anndata \n",
    "import matplotlib.pyplot as plt"
   ]
  },
  {
   "cell_type": "code",
   "execution_count": 56,
   "id": "b781d21c-662c-4fa8-a785-bbed6d4dc563",
   "metadata": {},
   "outputs": [],
   "source": [
    "aux_0 = pd.read_csv('kang_remove_if/aux_0.csv').sort_values('means',ascending=False)\n",
    "aux_1 = pd.read_csv('kang_remove_if/aux_1.csv').sort_values('means',ascending=False)\n",
    "aux_2 = pd.read_csv('kang_remove_if/aux_2.csv').sort_values('means',ascending=False)\n",
    "aux_3 = pd.read_csv('kang_remove_if/aux_3.csv').sort_values('means',ascending=False)"
   ]
  },
  {
   "cell_type": "code",
   "execution_count": 57,
   "id": "bed6aaa3-d80c-4842-8e51-3551718399fd",
   "metadata": {},
   "outputs": [
    {
     "data": {
      "text/html": [
       "<div>\n",
       "<style scoped>\n",
       "    .dataframe tbody tr th:only-of-type {\n",
       "        vertical-align: middle;\n",
       "    }\n",
       "\n",
       "    .dataframe tbody tr th {\n",
       "        vertical-align: top;\n",
       "    }\n",
       "\n",
       "    .dataframe thead th {\n",
       "        text-align: right;\n",
       "    }\n",
       "</style>\n",
       "<table border=\"1\" class=\"dataframe\">\n",
       "  <thead>\n",
       "    <tr style=\"text-align: right;\">\n",
       "      <th></th>\n",
       "      <th>index</th>\n",
       "      <th>means</th>\n",
       "      <th>stds</th>\n",
       "    </tr>\n",
       "  </thead>\n",
       "  <tbody>\n",
       "    <tr>\n",
       "      <th>545</th>\n",
       "      <td>IFITM3</td>\n",
       "      <td>0.709583</td>\n",
       "      <td>0.281605</td>\n",
       "    </tr>\n",
       "    <tr>\n",
       "      <th>647</th>\n",
       "      <td>OAS1</td>\n",
       "      <td>0.438769</td>\n",
       "      <td>0.252397</td>\n",
       "    </tr>\n",
       "    <tr>\n",
       "      <th>347</th>\n",
       "      <td>PLA2G7</td>\n",
       "      <td>0.418379</td>\n",
       "      <td>0.296723</td>\n",
       "    </tr>\n",
       "    <tr>\n",
       "      <th>137</th>\n",
       "      <td>SSB</td>\n",
       "      <td>0.353560</td>\n",
       "      <td>0.184598</td>\n",
       "    </tr>\n",
       "    <tr>\n",
       "      <th>731</th>\n",
       "      <td>ISG20</td>\n",
       "      <td>0.333068</td>\n",
       "      <td>0.180125</td>\n",
       "    </tr>\n",
       "    <tr>\n",
       "      <th>...</th>\n",
       "      <td>...</td>\n",
       "      <td>...</td>\n",
       "      <td>...</td>\n",
       "    </tr>\n",
       "    <tr>\n",
       "      <th>626</th>\n",
       "      <td>GLS2</td>\n",
       "      <td>0.000013</td>\n",
       "      <td>0.000578</td>\n",
       "    </tr>\n",
       "    <tr>\n",
       "      <th>948</th>\n",
       "      <td>JAM2</td>\n",
       "      <td>0.000012</td>\n",
       "      <td>0.000478</td>\n",
       "    </tr>\n",
       "    <tr>\n",
       "      <th>285</th>\n",
       "      <td>CDO1</td>\n",
       "      <td>0.000011</td>\n",
       "      <td>0.000147</td>\n",
       "    </tr>\n",
       "    <tr>\n",
       "      <th>512</th>\n",
       "      <td>CARD9</td>\n",
       "      <td>0.000009</td>\n",
       "      <td>0.000132</td>\n",
       "    </tr>\n",
       "    <tr>\n",
       "      <th>969</th>\n",
       "      <td>ABCC2</td>\n",
       "      <td>0.000006</td>\n",
       "      <td>0.000192</td>\n",
       "    </tr>\n",
       "  </tbody>\n",
       "</table>\n",
       "<p>979 rows × 3 columns</p>\n",
       "</div>"
      ],
      "text/plain": [
       "      index     means      stds\n",
       "545  IFITM3  0.709583  0.281605\n",
       "647    OAS1  0.438769  0.252397\n",
       "347  PLA2G7  0.418379  0.296723\n",
       "137     SSB  0.353560  0.184598\n",
       "731   ISG20  0.333068  0.180125\n",
       "..      ...       ...       ...\n",
       "626    GLS2  0.000013  0.000578\n",
       "948    JAM2  0.000012  0.000478\n",
       "285    CDO1  0.000011  0.000147\n",
       "512   CARD9  0.000009  0.000132\n",
       "969   ABCC2  0.000006  0.000192\n",
       "\n",
       "[979 rows x 3 columns]"
      ]
     },
     "execution_count": 57,
     "metadata": {},
     "output_type": "execute_result"
    }
   ],
   "source": [
    "aux_0"
   ]
  },
  {
   "cell_type": "code",
   "execution_count": 63,
   "id": "610fe9bc-9a8d-44e8-b911-2735c151a6a1",
   "metadata": {},
   "outputs": [],
   "source": [
    "# plot \n",
    "def make_top_genes_plot(dataset, title, number_top):\n",
    "    means = list(dataset['means'])[:number_top]\n",
    "    stds = list(dataset['stds'])[:number_top]\n",
    "\n",
    "    bars = np.arange(len(means))\n",
    "    labels = list(dataset['index'])[:number_top]\n",
    "\n",
    "    #fig, ax = plt.subplots()\n",
    "    fig, ax = plt.subplots(figsize=(6,3))\n",
    "\n",
    "    #ax.barh(bars, means, xerr=stds, align='center', alpha=0.5, ecolor='black', capsize=10)\n",
    "    ax.barh(bars, means, xerr=stds, align='center', alpha=0.5, ecolor='black')\n",
    "\n",
    "    ax.set_yticks(bars)\n",
    "    ax.set_yticklabels(labels)\n",
    "    \n",
    "    plt.xlim([0, 2.8])\n",
    "\n",
    "    ax.invert_yaxis()  # labels read top-to-bottom\n",
    "    ax.set_xlabel('Mean Absolute Gene Attribution')\n",
    "    #plt.tight_layout()\n",
    "\n",
    "    #plt.savefig(str(dataset)+'.pdf', bbox_inches='tight')\n",
    "    plt.savefig('gene_attribs/' + title +'.pdf', bbox_inches='tight')\n",
    "\n",
    "    plt.show()"
   ]
  },
  {
   "cell_type": "code",
   "execution_count": 64,
   "id": "079ebe87-36d2-4a16-9601-260b517cb6e6",
   "metadata": {},
   "outputs": [
    {
     "data": {
      "image/png": "[encoded data removed]",
      "text/plain": [
       "<Figure size 432x216 with 1 Axes>"
      ]
     },
     "metadata": {
      "needs_background": "light"
     },
     "output_type": "display_data"
    }
   ],
   "source": [
    "make_top_genes_plot(aux_0, 'if_aux_0', 10)"
   ]
  },
  {
   "cell_type": "code",
   "execution_count": 65,
   "id": "d71c9918-ded2-452e-8789-6692a5508271",
   "metadata": {},
   "outputs": [
    {
     "data": {
      "image/png": "[encoded data removed]",
      "text/plain": [
       "<Figure size 432x216 with 1 Axes>"
      ]
     },
     "metadata": {
      "needs_background": "light"
     },
     "output_type": "display_data"
    }
   ],
   "source": [
    "make_top_genes_plot(aux_1, 'if_aux_1', 10)"
   ]
  },
  {
   "cell_type": "code",
   "execution_count": 66,
   "id": "29d91579-11e3-4baa-bdf5-3da17e970c17",
   "metadata": {},
   "outputs": [
    {
     "data": {
      "image/png": "[encoded data removed]",
      "text/plain": [
       "<Figure size 432x216 with 1 Axes>"
      ]
     },
     "metadata": {
      "needs_background": "light"
     },
     "output_type": "display_data"
    }
   ],
   "source": [
    "make_top_genes_plot(aux_2, 'if_aux_2', 10)"
   ]
  },
  {
   "cell_type": "code",
   "execution_count": 67,
   "id": "7c5c8c37-75b1-4f8c-a984-99b419d513e0",
   "metadata": {},
   "outputs": [
    {
     "data": {
      "image/png": "[encoded data removed]",
      "text/plain": [
       "<Figure size 432x216 with 1 Axes>"
      ]
     },
     "metadata": {
      "needs_background": "light"
     },
     "output_type": "display_data"
    }
   ],
   "source": [
    "make_top_genes_plot(aux_3, 'if_aux_3', 10)"
   ]
  },
  {
   "cell_type": "code",
   "execution_count": null,
   "id": "8fd79e4f-9489-40c2-b6d9-db0b0ecd46e6",
   "metadata": {},
   "outputs": [],
   "source": []
  }
 ],
 "metadata": {
  "kernelspec": {
   "display_name": "plot",
   "language": "python",
   "name": "plot"
  },
  "language_info": {
   "codemirror_mode": {
    "name": "ipython",
    "version": 3
   },
   "file_extension": ".py",
   "mimetype": "text/x-python",
   "name": "python",
   "nbconvert_exporter": "python",
   "pygments_lexer": "ipython3",
   "version": "3.9.10"
  }
 },
 "nbformat": 4,
 "nbformat_minor": 5
}
