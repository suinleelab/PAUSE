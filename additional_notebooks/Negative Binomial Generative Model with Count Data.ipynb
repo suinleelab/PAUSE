{
 "cells": [
  {
   "cell_type": "code",
   "execution_count": 1,
   "metadata": {},
   "outputs": [],
   "source": [
    "import anndata\n",
    "import numpy as np\n",
    "import pandas as pd\n",
    "\n",
    "import torch\n",
    "import torch.nn.functional as F\n",
    "\n",
    "import os"
   ]
  },
  {
   "cell_type": "code",
   "execution_count": 2,
   "metadata": {},
   "outputs": [],
   "source": [
    "from utils import load_annotations"
   ]
  },
  {
   "cell_type": "code",
   "execution_count": 3,
   "metadata": {},
   "outputs": [],
   "source": [
    "from sklearn.model_selection import train_test_split"
   ]
  },
  {
   "cell_type": "code",
   "execution_count": 4,
   "metadata": {},
   "outputs": [],
   "source": [
    "data = anndata.read('data/datlinger_pp.h5ad')\n",
    "data.varm['annotations'] = load_annotations(\n",
    "    'data/c2.cp.reactome.v7.4.symbols.gmt',\n",
    "    data.var_names,\n",
    "    min_genes=13\n",
    ")"
   ]
  },
  {
   "cell_type": "code",
   "execution_count": 5,
   "metadata": {},
   "outputs": [],
   "source": [
    "TCR_same_genes = pd.read_csv('/homes/gws/jjanizek/ad_deep_plier/data/jurkat_count_data.csv',index_col=0)"
   ]
  },
  {
   "cell_type": "code",
   "execution_count": 6,
   "metadata": {},
   "outputs": [],
   "source": [
    "from models import pmVAEModelNB"
   ]
  },
  {
   "cell_type": "code",
   "execution_count": 7,
   "metadata": {},
   "outputs": [],
   "source": [
    "membership_mask = data.varm['annotations'].astype(bool).T\n",
    "X_train, X_test = train_test_split(\n",
    "    TCR_same_genes.values,\n",
    "    test_size=0.25,\n",
    "    shuffle=True,\n",
    "    random_state=0,\n",
    ")"
   ]
  },
  {
   "cell_type": "code",
   "execution_count": 8,
   "metadata": {},
   "outputs": [],
   "source": [
    "countVAE = pmVAEModelNB(\n",
    "    membership_mask.values,\n",
    "    [6],\n",
    "    4,\n",
    "    beta=1e-5,\n",
    "    terms=membership_mask.index,\n",
    "    add_auxiliary_module=True,\n",
    "    use_gpu=False,\n",
    ")"
   ]
  },
  {
   "cell_type": "markdown",
   "metadata": {},
   "source": [
    "### fit model"
   ]
  },
  {
   "cell_type": "code",
   "execution_count": 9,
   "metadata": {},
   "outputs": [],
   "source": [
    "from torch.utils.data import Dataset, DataLoader\n",
    "class RNASeqData(Dataset):\n",
    "    \n",
    "    def __init__(self, X, c=None, y=None, transform=None):\n",
    "        self.X = X\n",
    "        self.y = y\n",
    "        self.c = c\n",
    "        self.transform = transform\n",
    "        \n",
    "    def __len__(self):\n",
    "        return self.X.shape[0]\n",
    "    \n",
    "    def __getitem__(self, index):\n",
    "        sample = self.X[index,:]\n",
    "        \n",
    "        if self.transform is not None:\n",
    "            sample = self.transform(sample)\n",
    "            \n",
    "        if self.y is not None and self.c is not None:\n",
    "            return sample, self.y[index], self.c[index]\n",
    "        if self.y is None and self.c is not None:\n",
    "            return sample, self.c[index]\n",
    "        else:\n",
    "            return sample"
   ]
  },
  {
   "cell_type": "code",
   "execution_count": 10,
   "metadata": {},
   "outputs": [],
   "source": [
    "train_ds = RNASeqData(X_train)\n",
    "test_ds = RNASeqData(X_test)"
   ]
  },
  {
   "cell_type": "code",
   "execution_count": 11,
   "metadata": {},
   "outputs": [
    {
     "name": "stdout",
     "output_type": "stream",
     "text": [
      "-------- Epoch 000 --------\n",
      "Epoch 000: training loss 006.9907,validation loss 010.8708\n",
      "-------- Epoch 001 --------\n",
      "Epoch 001: training loss 006.8188,validation loss 010.8581\n",
      "-------- Epoch 002 --------\n",
      "Epoch 002: training loss 006.6682,validation loss 010.8405\n",
      "-------- Epoch 003 --------\n",
      "Epoch 003: training loss 006.5323,validation loss 010.8188\n",
      "-------- Epoch 004 --------\n",
      "Epoch 004: training loss 006.3888,validation loss 010.7792\n",
      "-------- Epoch 005 --------\n",
      "Epoch 005: training loss 006.2683,validation loss 010.7240\n",
      "-------- Epoch 006 --------\n",
      "Epoch 006: training loss 006.1505,validation loss 010.6487\n",
      "-------- Epoch 007 --------\n",
      "Epoch 007: training loss 006.0382,validation loss 010.5711\n",
      "-------- Epoch 008 --------\n",
      "Epoch 008: training loss 005.9525,validation loss 010.4405\n",
      "-------- Epoch 009 --------\n",
      "Epoch 009: training loss 005.8660,validation loss 010.2628\n",
      "-------- Epoch 010 --------\n",
      "Epoch 010: training loss 005.7797,validation loss 010.0512\n",
      "-------- Epoch 011 --------\n",
      "Epoch 011: training loss 005.7023,validation loss 009.7736\n",
      "-------- Epoch 012 --------\n",
      "Epoch 012: training loss 005.6389,validation loss 009.5085\n",
      "-------- Epoch 013 --------\n",
      "Epoch 013: training loss 005.5720,validation loss 009.2699\n",
      "-------- Epoch 014 --------\n",
      "Epoch 014: training loss 005.5063,validation loss 009.0632\n",
      "-------- Epoch 015 --------\n",
      "Epoch 015: training loss 005.4528,validation loss 008.7204\n",
      "-------- Epoch 016 --------\n",
      "Epoch 016: training loss 005.3949,validation loss 008.5539\n",
      "-------- Epoch 017 --------\n",
      "Epoch 017: training loss 005.3415,validation loss 008.4376\n",
      "-------- Epoch 018 --------\n",
      "Epoch 018: training loss 005.2920,validation loss 008.2666\n",
      "-------- Epoch 019 --------\n",
      "Epoch 019: training loss 005.2407,validation loss 008.1405\n",
      "-------- Epoch 020 --------\n",
      "Epoch 020: training loss 005.1915,validation loss 008.0777\n",
      "-------- Epoch 021 --------\n",
      "Epoch 021: training loss 005.1477,validation loss 007.8688\n",
      "-------- Epoch 022 --------\n",
      "Epoch 022: training loss 005.1179,validation loss 007.8563\n",
      "-------- Epoch 023 --------\n",
      "Epoch 023: training loss 005.0670,validation loss 007.7683\n",
      "-------- Epoch 024 --------\n",
      "Epoch 024: training loss 005.0294,validation loss 007.6751\n",
      "-------- Epoch 025 --------\n",
      "Epoch 025: training loss 004.9864,validation loss 007.7359\n",
      "-------- Epoch 026 --------\n",
      "Epoch 026: training loss 004.9583,validation loss 007.6667\n",
      "-------- Epoch 027 --------\n",
      "Epoch 027: training loss 004.9676,validation loss 007.6941\n",
      "-------- Epoch 028 --------\n",
      "Epoch 028: training loss 004.9599,validation loss 007.6516\n",
      "-------- Epoch 029 --------\n",
      "Epoch 029: training loss 004.9532,validation loss 007.6154\n"
     ]
    }
   ],
   "source": [
    "countVAE.train(train_ds, test_ds, checkpoint_path='count_NBvae_with_aux.pkl',max_epochs=30)"
   ]
  },
  {
   "cell_type": "code",
   "execution_count": 12,
   "metadata": {},
   "outputs": [],
   "source": [
    "ground_truth = torch.tensor(TCR_same_genes.values).float()\n",
    "outs = countVAE.model(ground_truth)"
   ]
  },
  {
   "cell_type": "code",
   "execution_count": 13,
   "metadata": {},
   "outputs": [],
   "source": [
    "## slice for stimulated vs non-stimulated cells\n",
    "stim = np.zeros((TCR_same_genes.shape[0]))\n",
    "stim[:705] = True\n",
    "stim[705:] = False\n",
    "\n",
    "stim = stim.astype('bool')"
   ]
  },
  {
   "cell_type": "code",
   "execution_count": 15,
   "metadata": {},
   "outputs": [],
   "source": [
    "from pathexplainer import PathExplainerTorch\n",
    "input_data = outs.z\n",
    "baseline_data = torch.zeros(outs.z.shape[1])\n",
    "baseline_data.requires_grad = True"
   ]
  },
  {
   "cell_type": "code",
   "execution_count": 16,
   "metadata": {},
   "outputs": [],
   "source": [
    "# calc_likelihood_latent_z method from model\n",
    "\n",
    "# def calc_likelihood_latent_z(self, x, z, c=None, **kwargs):\n",
    "#     library = torch.sum(x, dim=1, keepdim=True)\n",
    "\n",
    "#     x_ = torch.log(1.0 + x)\n",
    "\n",
    "#     if c is not None:\n",
    "#         network_input = torch.cat([x_, c], 1)\n",
    "#     else:\n",
    "#         network_input = x_\n",
    "#     mu, logvar = self.encode(network_input, **kwargs)\n",
    "#     generative_params = self.generative(z, library)\n",
    "#     px_rate = generative_params[\"px_rate\"]\n",
    "#     theta = generative_params[\"theta\"]\n",
    "#     qz_m = mu\n",
    "#     qz_v = torch.exp(logvar / 2)\n",
    "#     nb_logits = (px_rate + 1e-4).log() - (theta + 1e-4).log()\n",
    "#     log_lik = NegativeBinomial(theta, logits=nb_logits).log_prob(x).sum(dim=-1)\n",
    "#     return -log_lik.mean()\n",
    "\n",
    "def model_loss_wrapper(z):\n",
    "    x = ground_truth\n",
    "    return countVAE.model.calc_likelihood_latent_z(x, z)"
   ]
  },
  {
   "cell_type": "code",
   "execution_count": 18,
   "metadata": {},
   "outputs": [],
   "source": [
    "explainer = PathExplainerTorch(model_loss_wrapper)\n",
    "attributions = explainer.attributions(input_data,\n",
    "                                      baseline=baseline_data,\n",
    "                                      num_samples=200,\n",
    "                                      use_expectation=False)"
   ]
  },
  {
   "cell_type": "code",
   "execution_count": 23,
   "metadata": {},
   "outputs": [
    {
     "data": {
      "text/plain": [
       "torch.Size([1368])"
      ]
     },
     "execution_count": 23,
     "metadata": {},
     "output_type": "execute_result"
    }
   ],
   "source": [
    "attributions.mean(0).shape"
   ]
  },
  {
   "cell_type": "code",
   "execution_count": 25,
   "metadata": {},
   "outputs": [
    {
     "data": {
      "text/plain": [
       "Index(['REACTOME_APOPTOSIS', 'REACTOME_HEMOSTASIS',\n",
       "       'REACTOME_INTRINSIC_PATHWAY_FOR_APOPTOSIS',\n",
       "       'REACTOME_OPIOID_SIGNALLING', 'REACTOME_CA_DEPENDENT_EVENTS',\n",
       "       'REACTOME_G_PROTEIN_MEDIATED_EVENTS',\n",
       "       'REACTOME_NEUROTRANSMITTER_RELEASE_CYCLE',\n",
       "       'REACTOME_NEUROTRANSMITTER_RECEPTORS_AND_POSTSYNAPTIC_SIGNAL_TRANSMISSION',\n",
       "       'REACTOME_TRANSMISSION_ACROSS_CHEMICAL_SYNAPSES',\n",
       "       'REACTOME_NEURONAL_SYSTEM',\n",
       "       ...\n",
       "       'REACTOME_SENSORY_PERCEPTION',\n",
       "       'REACTOME_CELLULAR_RESPONSE_TO_STARVATION',\n",
       "       'REACTOME_CELLULAR_RESPONSE_TO_CHEMICAL_STRESS',\n",
       "       'REACTOME_SIGNALING_BY_RHO_GTPASES_MIRO_GTPASES_AND_RHOBTB3',\n",
       "       'REACTOME_ANTIGEN_PROCESSING_UBIQUITINATION_PROTEASOME_DEGRADATION',\n",
       "       'REACTOME_CLASS_I_MHC_MEDIATED_ANTIGEN_PROCESSING_PRESENTATION',\n",
       "       'REACTOME_KINESINS',\n",
       "       'REACTOME_FACTORS_INVOLVED_IN_MEGAKARYOCYTE_DEVELOPMENT_AND_PLATELET_PRODUCTION',\n",
       "       'REACTOME_SIGNALING_BY_THE_B_CELL_RECEPTOR_BCR',\n",
       "       'REACTOME_ION_CHANNEL_TRANSPORT'],\n",
       "      dtype='object', length=341)"
      ]
     },
     "execution_count": 25,
     "metadata": {},
     "output_type": "execute_result"
    }
   ],
   "source": [
    "membership_mask.index"
   ]
  },
  {
   "cell_type": "code",
   "execution_count": 48,
   "metadata": {},
   "outputs": [],
   "source": [
    "np_attribs = attributions.detach().numpy()\n",
    "top_features = pd.DataFrame(index=countVAE.latent_space_names())\n",
    "top_features['loss_attrib'] = np_attribs.mean(0)"
   ]
  },
  {
   "cell_type": "code",
   "execution_count": 49,
   "metadata": {},
   "outputs": [
    {
     "data": {
      "text/html": [
       "<div>\n",
       "<style scoped>\n",
       "    .dataframe tbody tr th:only-of-type {\n",
       "        vertical-align: middle;\n",
       "    }\n",
       "\n",
       "    .dataframe tbody tr th {\n",
       "        vertical-align: top;\n",
       "    }\n",
       "\n",
       "    .dataframe thead th {\n",
       "        text-align: right;\n",
       "    }\n",
       "</style>\n",
       "<table border=\"1\" class=\"dataframe\">\n",
       "  <thead>\n",
       "    <tr style=\"text-align: right;\">\n",
       "      <th></th>\n",
       "      <th>loss_attrib</th>\n",
       "    </tr>\n",
       "  </thead>\n",
       "  <tbody>\n",
       "    <tr>\n",
       "      <th>AUXILIARY-0</th>\n",
       "      <td>-19.178642</td>\n",
       "    </tr>\n",
       "    <tr>\n",
       "      <th>AUXILIARY-2</th>\n",
       "      <td>-17.483047</td>\n",
       "    </tr>\n",
       "    <tr>\n",
       "      <th>AUXILIARY-1</th>\n",
       "      <td>-17.473526</td>\n",
       "    </tr>\n",
       "    <tr>\n",
       "      <th>AUXILIARY-3</th>\n",
       "      <td>-17.028448</td>\n",
       "    </tr>\n",
       "    <tr>\n",
       "      <th>REACTOME_POST_TRANSLATIONAL_PROTEIN_MODIFICATION-0</th>\n",
       "      <td>-1.990053</td>\n",
       "    </tr>\n",
       "    <tr>\n",
       "      <th>REACTOME_METABOLISM_OF_LIPIDS-2</th>\n",
       "      <td>-1.929796</td>\n",
       "    </tr>\n",
       "    <tr>\n",
       "      <th>REACTOME_METABOLISM_OF_LIPIDS-0</th>\n",
       "      <td>-1.892864</td>\n",
       "    </tr>\n",
       "    <tr>\n",
       "      <th>REACTOME_CELL_CYCLE-0</th>\n",
       "      <td>-1.859454</td>\n",
       "    </tr>\n",
       "    <tr>\n",
       "      <th>REACTOME_METABOLISM_OF_LIPIDS-3</th>\n",
       "      <td>-1.849262</td>\n",
       "    </tr>\n",
       "    <tr>\n",
       "      <th>REACTOME_CELLULAR_RESPONSES_TO_EXTERNAL_STIMULI-0</th>\n",
       "      <td>-1.640703</td>\n",
       "    </tr>\n",
       "    <tr>\n",
       "      <th>REACTOME_POST_TRANSLATIONAL_PROTEIN_MODIFICATION-3</th>\n",
       "      <td>-1.495110</td>\n",
       "    </tr>\n",
       "    <tr>\n",
       "      <th>REACTOME_CELL_CYCLE-3</th>\n",
       "      <td>-1.477081</td>\n",
       "    </tr>\n",
       "    <tr>\n",
       "      <th>REACTOME_CELL_CYCLE-2</th>\n",
       "      <td>-1.458830</td>\n",
       "    </tr>\n",
       "    <tr>\n",
       "      <th>REACTOME_CELL_CYCLE_MITOTIC-2</th>\n",
       "      <td>-1.456715</td>\n",
       "    </tr>\n",
       "    <tr>\n",
       "      <th>REACTOME_CELL_CYCLE_MITOTIC-1</th>\n",
       "      <td>-1.340248</td>\n",
       "    </tr>\n",
       "    <tr>\n",
       "      <th>REACTOME_CELLULAR_RESPONSES_TO_EXTERNAL_STIMULI-3</th>\n",
       "      <td>-1.339492</td>\n",
       "    </tr>\n",
       "    <tr>\n",
       "      <th>REACTOME_THE_CITRIC_ACID_TCA_CYCLE_AND_RESPIRATORY_ELECTRON_TRANSPORT-3</th>\n",
       "      <td>-1.326575</td>\n",
       "    </tr>\n",
       "    <tr>\n",
       "      <th>REACTOME_CELLULAR_RESPONSES_TO_EXTERNAL_STIMULI-2</th>\n",
       "      <td>-1.323440</td>\n",
       "    </tr>\n",
       "    <tr>\n",
       "      <th>REACTOME_THE_CITRIC_ACID_TCA_CYCLE_AND_RESPIRATORY_ELECTRON_TRANSPORT-0</th>\n",
       "      <td>-1.280731</td>\n",
       "    </tr>\n",
       "    <tr>\n",
       "      <th>REACTOME_THE_CITRIC_ACID_TCA_CYCLE_AND_RESPIRATORY_ELECTRON_TRANSPORT-1</th>\n",
       "      <td>-1.264614</td>\n",
       "    </tr>\n",
       "  </tbody>\n",
       "</table>\n",
       "</div>"
      ],
      "text/plain": [
       "                                                    loss_attrib\n",
       "AUXILIARY-0                                          -19.178642\n",
       "AUXILIARY-2                                          -17.483047\n",
       "AUXILIARY-1                                          -17.473526\n",
       "AUXILIARY-3                                          -17.028448\n",
       "REACTOME_POST_TRANSLATIONAL_PROTEIN_MODIFICATION-0    -1.990053\n",
       "REACTOME_METABOLISM_OF_LIPIDS-2                       -1.929796\n",
       "REACTOME_METABOLISM_OF_LIPIDS-0                       -1.892864\n",
       "REACTOME_CELL_CYCLE-0                                 -1.859454\n",
       "REACTOME_METABOLISM_OF_LIPIDS-3                       -1.849262\n",
       "REACTOME_CELLULAR_RESPONSES_TO_EXTERNAL_STIMULI-0     -1.640703\n",
       "REACTOME_POST_TRANSLATIONAL_PROTEIN_MODIFICATION-3    -1.495110\n",
       "REACTOME_CELL_CYCLE-3                                 -1.477081\n",
       "REACTOME_CELL_CYCLE-2                                 -1.458830\n",
       "REACTOME_CELL_CYCLE_MITOTIC-2                         -1.456715\n",
       "REACTOME_CELL_CYCLE_MITOTIC-1                         -1.340248\n",
       "REACTOME_CELLULAR_RESPONSES_TO_EXTERNAL_STIMULI-3     -1.339492\n",
       "REACTOME_THE_CITRIC_ACID_TCA_CYCLE_AND_RESPIRAT...    -1.326575\n",
       "REACTOME_CELLULAR_RESPONSES_TO_EXTERNAL_STIMULI-2     -1.323440\n",
       "REACTOME_THE_CITRIC_ACID_TCA_CYCLE_AND_RESPIRAT...    -1.280731\n",
       "REACTOME_THE_CITRIC_ACID_TCA_CYCLE_AND_RESPIRAT...    -1.264614"
      ]
     },
     "execution_count": 49,
     "metadata": {},
     "output_type": "execute_result"
    }
   ],
   "source": [
    "top_features.sort_values('loss_attrib',ascending=True).iloc[:20,:]"
   ]
  },
  {
   "cell_type": "code",
   "execution_count": 52,
   "metadata": {},
   "outputs": [
    {
     "data": {
      "text/plain": [
       "796"
      ]
     },
     "execution_count": 52,
     "metadata": {},
     "output_type": "execute_result"
    }
   ],
   "source": [
    "countVAE.latent_space_names().index('REACTOME_POST_TRANSLATIONAL_PROTEIN_MODIFICATION-0')"
   ]
  },
  {
   "cell_type": "code",
   "execution_count": 53,
   "metadata": {},
   "outputs": [
    {
     "data": {
      "text/plain": [
       "<Figure size 432x432 with 0 Axes>"
      ]
     },
     "metadata": {},
     "output_type": "display_data"
    },
    {
     "data": {
      "image/png": "[encoded data removed]",
      "text/plain": [
       "<Figure size 432x432 with 3 Axes>"
      ]
     },
     "metadata": {
      "needs_background": "light"
     },
     "output_type": "display_data"
    }
   ],
   "source": [
    "# scatter aux 0 and 2\n",
    "import matplotlib.pyplot as plt\n",
    "import seaborn as sb\n",
    "plt.figure(figsize=(6,6))\n",
    "sb.jointplot(x=input_data[:,164].detach().numpy(),y=input_data[:,796].detach().numpy(),hue=stim)\n",
    "plt.show()"
   ]
  },
  {
   "cell_type": "code",
   "execution_count": null,
   "metadata": {},
   "outputs": [],
   "source": []
  }
 ],
 "metadata": {
  "kernelspec": {
   "display_name": "Python 3",
   "language": "python",
   "name": "python3"
  },
  "language_info": {
   "codemirror_mode": {
    "name": "ipython",
    "version": 3
   },
   "file_extension": ".py",
   "mimetype": "text/x-python",
   "name": "python",
   "nbconvert_exporter": "python",
   "pygments_lexer": "ipython3",
   "version": "3.8.1"
  }
 },
 "nbformat": 4,
 "nbformat_minor": 4
}
